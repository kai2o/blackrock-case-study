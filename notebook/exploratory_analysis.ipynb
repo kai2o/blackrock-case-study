{
 "cells": [
  {
   "cell_type": "code",
   "execution_count": 3,
   "metadata": {},
   "outputs": [],
   "source": [
    "!pip install yfinance"
   ]
  },
  {
   "cell_type": "code",
   "execution_count": 5,
   "metadata": {},
   "outputs": [],
   "source": [
    "import yfinance as yf\n",
    "import pandas as pd\n",
    "\n",
    "# Download data for BlackRock's stock and compare it with S&P 500 (as a benchmark)\n",
    "symbols = ['BLK', '^GSPC']  # BlackRock (BLK) and S&P 500 (^GSPC)\n",
    "data = yf.download(symbols, start='2010-01-01', end='2023-12-31')['Adj Close']\n",
    "\n",
    "# Preview the data\n",
    "print(data.head())\n",
    "\n",
    "# Calculate daily returns\n",
    "returns = data.pct_change().dropna()\n",
    "\n",
    "# Save the dataset for future use\n",
    "data.to_csv('blackrock_data.csv')"
   ]
  },
  {
   "cell_type": "code",
   "execution_count": 6,
   "metadata": {},
   "outputs": [],
   "source": [
    "# Descriptive statistics\n",
    "summary = returns.describe()\n",
    "print(summary)"
   ]
  },
  {
   "cell_type": "code",
   "execution_count": 7,
   "metadata": {},
   "outputs": [],
   "source": [
    "!pip install seaborn"
   ]
  },
  {
   "cell_type": "code",
   "execution_count": 8,
   "metadata": {},
   "outputs": [],
   "source": [
    "!pip install matplotlib"
   ]
  },
  {
   "cell_type": "code",
   "execution_count": 9,
   "metadata": {},
   "outputs": [],
   "source": [
    "import seaborn as sns\n",
    "import matplotlib.pyplot as plt\n",
    "\n",
    "# Calculate the correlation between BlackRock and S&P 500\n",
    "corr_matrix = returns.corr()\n",
    "\n",
    "# Plot the heatmap\n",
    "plt.figure(figsize=(8, 6))\n",
    "sns.heatmap(corr_matrix, annot=True, cmap='coolwarm', linewidths=0.5)\n",
    "plt.title('Correlation Matrix between BlackRock and S&P 500')\n",
    "plt.show()"
   ]
  },
  {
   "cell_type": "code",
   "execution_count": 10,
   "metadata": {},
   "outputs": [],
   "source": [
    "# Calculate cumulative returns\n",
    "cumulative_returns = (1 + returns).cumprod() - 1\n",
    "\n",
    "# Plot the cumulative returns\n",
    "plt.figure(figsize=(10, 6))\n",
    "cumulative_returns.plot()\n",
    "plt.title('Cumulative Returns for BlackRock vs S&P 500')\n",
    "plt.xlabel('Date')\n",
    "plt.ylabel('Cumulative Returns')\n",
    "plt.legend(['BlackRock', 'S&P 500'])\n",
    "plt.grid(True)\n",
    "plt.show()"
   ]
  },
  {
   "cell_type": "code",
   "execution_count": 11,
   "metadata": {},
   "outputs": [],
   "source": [
    "# Calculate rolling mean and volatility (standard deviation) for 30-day periods\n",
    "rolling_mean = returns.rolling(window=30).mean()\n",
    "rolling_std = returns.rolling(window=30).std()\n",
    "\n",
    "# Plot rolling statistics\n",
    "plt.figure(figsize=(10, 6))\n",
    "rolling_mean.plot(title='30-Day Rolling Mean Returns')\n",
    "plt.grid(True)\n",
    "plt.show()\n",
    "\n",
    "plt.figure(figsize=(10, 6))\n",
    "rolling_std.plot(title='30-Day Rolling Standard Deviation (Volatility)')\n",
    "plt.grid(True)\n",
    "plt.show()"
   ]
  }
 ],
 "metadata": {
  "kernelspec": {
   "display_name": "Python 3 (ipykernel)",
   "language": "python",
   "name": "python3"
  }
 },
 "nbformat": 4,
 "nbformat_minor": 2
}
