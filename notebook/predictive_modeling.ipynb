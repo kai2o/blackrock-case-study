{
 "cells": [
  {
   "cell_type": "code",
   "execution_count": null,
   "metadata": {},
   "outputs": [],
   "source": [
    "from sklearn.model_selection import train_test_split\n",
    "from sklearn.ensemble import RandomForestClassifier\n",
    "from sklearn.metrics import accuracy_score\n",
    "\n",
    "# Create features (lags of returns)\n",
    "returns['Lag1'] = returns['BLK'].shift(1)\n",
    "returns['Lag2'] = returns['BLK'].shift(2)\n",
    "returns.dropna(inplace=True)\n",
    "\n",
    "# Define target: 1 if the return is positive, else 0\n",
    "returns['Direction'] = (returns['BLK'] > 0).astype(int)\n",
    "\n",
    "# Split the data\n",
    "X = returns[['Lag1', 'Lag2']]\n",
    "y = returns['Direction']\n",
    "X_train, X_test, y_train, y_test = train_test_split(X, y, test_size=0.3, random_state=42)\n",
    "\n",
    "# Train a RandomForestClassifier\n",
    "rf = RandomForestClassifier(n_estimators=100, random_state=42)\n",
    "rf.fit(X_train, y_train)\n",
    "\n",
    "# Predictions and accuracy\n",
    "y_pred = rf.predict(X_test)\n",
    "accuracy = accuracy_score(y_test, y_pred)\n",
    "print(f'Prediction Accuracy: {accuracy:.2%}')\n"
   ]
  }
 ],
 "metadata": {
  "kernelspec": {
   "display_name": "Python 3 (ipykernel)",
   "language": "python",
   "name": "python3"
  }
 },
 "nbformat": 4,
 "nbformat_minor": 2
}
